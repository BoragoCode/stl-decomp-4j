{
 "cells": [
  {
   "cell_type": "markdown",
   "metadata": {},
   "source": [
    "# Implementation\n",
    "\n",
    "The algorithm used by **_stl-decomp-4j_** takes advantage of the fact that the data that is being decomposed is regularly spaced with no missing values to implement the underlying Loess smoothers in an efficient fashion. This document walks through the formulation of local linear interpolation used by the Loess interpolator to explain the flavor of the implementation, and then extends this analysis to the quadratic interpolation that was added to the Java implementation."
   ]
  },
  {
   "cell_type": "markdown",
   "metadata": {
    "ExecuteTime": {
     "end_time": "2017-03-30T13:25:14.587538",
     "start_time": "2017-03-30T13:25:14.583851"
    }
   },
   "source": [
    "## Local Linear Interpolation"
   ]
  },
  {
   "cell_type": "markdown",
   "metadata": {},
   "source": [
    "This section walks through the derivation of the code used to perform local (weighted) linear interpolation in `LinearLoessInterpolator`, which is a straight port of the code in the original Ratfor function `stl.r:est`."
   ]
  },
  {
   "cell_type": "markdown",
   "metadata": {},
   "source": [
    "The input data is a sequence of data points $\\{x_i, y_i\\}$, where the $x_i$ are the regularly spaced grid points.\n",
    "\n",
    "The goal is to derive a set of weights $w_i$ such that the Loess interpolation of the data set at an arbitrary point $x$ can be written as\n",
    "\n",
    "\\begin{equation*}\n",
    "  y(x) = \\sum_{i = 1}^m \\hat{w}_i(x_i) y_i\n",
    "\\end{equation*}\n",
    "\n",
    "i.e. the interpolation is re-cast as a linear operation on the input y-values."
   ]
  },
  {
   "cell_type": "markdown",
   "metadata": {
    "collapsed": true
   },
   "source": [
    "We can write a measure of the square error from weighted least-squares interpolation as\n",
    "\n",
    "\\begin{equation*}\n",
    "E = {\\frac{1}{2}} \\sum_{i=1}^m (y_i - \\alpha - \\beta x_i)^2 \\cdot w_i\n",
    "\\end{equation*}\n",
    "\n",
    "where $\\sum w_i = 1$ are external weights (in Loess these come from the implementation of the locality window)."
   ]
  },
  {
   "cell_type": "markdown",
   "metadata": {},
   "source": [
    "### Finding $\\alpha$"
   ]
  },
  {
   "cell_type": "markdown",
   "metadata": {},
   "source": [
    "The optimal choices of $\\alpha$ and $\\beta$ are found by differentiating with respect to these, setting to 0 and solving:\n",
    "\n",
    "\\begin{equation*}\n",
    "\\frac{\\partial E}{\\partial \\alpha} = - \\sum_{i=1}^m w_i (y_i - \\alpha - \\beta x_i) = 0\n",
    "\\end{equation*}\n",
    "\n",
    "Then\n",
    "\n",
    "\\begin{equation*}\n",
    "\\sum w_i y_i - \\alpha \\sum w_i - \\beta \\sum w_i x_i = 0\n",
    "\\end{equation*}\n",
    "\n",
    "Or, defining $\\langle y \\rangle = \\sum w_i y_i$, $\\langle x \\rangle = \\sum w_i x_i$ and recalling that the $w_i$ are normalized, this can be rewritten as:\n",
    "\n",
    "\\begin{equation*}\n",
    "\\alpha = \\langle y \\rangle - \\beta \\langle x \\rangle\n",
    "\\end{equation*}"
   ]
  },
  {
   "cell_type": "markdown",
   "metadata": {},
   "source": [
    "### Finding $\\beta$"
   ]
  },
  {
   "cell_type": "markdown",
   "metadata": {},
   "source": [
    "Repeating this exercise for $\\beta$, skipping the intermediate details, gives\n",
    "\n",
    "\\begin{equation*}\n",
    "\\beta = \\frac{\\langle x y \\rangle - \\langle x \\rangle \\langle y \\rangle}{\\langle x^2 \\rangle - \\langle x \\rangle^2}\n",
    "\\end{equation*}"
   ]
  },
  {
   "cell_type": "markdown",
   "metadata": {},
   "source": [
    "### The weight"
   ]
  },
  {
   "cell_type": "markdown",
   "metadata": {},
   "source": [
    "Given the expressions above, we can write our expression for the interpolant at a point $x$ as\n",
    "\n",
    "\\begin{align*}\n",
    "y(x) &= \\alpha + \\beta x_i \\\\\n",
    "       &= \\langle y \\rangle + \\beta ( x - \\langle x \\rangle) \\\\\n",
    "       &= \\langle y \\rangle + \\frac{\\langle x y \\rangle - \\langle x \\rangle \\langle y \\rangle}{\\langle x^2 \\rangle - \\langle x \\rangle^2} (x - \\langle x \\rangle)\n",
    "\\end{align*}"
   ]
  },
  {
   "cell_type": "markdown",
   "metadata": {},
   "source": [
    "Writing out the averages that involve $y$ we have:\n",
    "\n",
    "\\begin{align*}\n",
    "y(x) &= \\sum_j w_j y_j + \\sum_j \\frac{x - \\langle x \\rangle}{\\langle x^2 \\rangle - \\langle x \\rangle^2} w_j (y_j(x_j - \\langle x \\rangle)) \\\\\n",
    "       &= \\sum_j w_j \\left[1 + \\frac{x - \\langle x \\rangle}{\\langle x^2 \\rangle - \\langle x \\rangle^2}(x_j - \\langle x \\rangle) \\right] y_j \\\\\n",
    "       &= \\sum_j \\hat{w}_j(x) y_j\n",
    "\\end{align*}\n",
    "\n",
    "where we define:\n",
    "\n",
    "\\begin{equation*}\n",
    "\\hat{w}_j(x) \\equiv w_j\\left[ 1 + \\frac{(x - \\langle x \\rangle)(x_j - \\langle x \\rangle)}{\\langle x^2 \\rangle - \\langle x \\rangle^2} \\right]\n",
    "\\end{equation*}\n",
    "\n",
    "So, given the point $x$ at which we want to perform the interpolation (or extrapolation - $x$ is not limited to being in the range of the set of grid points, $\\{x_i\\}$), we just calculate a geometric adjustment to the original weights, $w_i$. These various averages can be computed efficiently since $w_i$ are non-zero only in the Loess window around the point $x$."
   ]
  },
  {
   "cell_type": "markdown",
   "metadata": {},
   "source": [
    "## Local Quadratic Interpolation"
   ]
  },
  {
   "cell_type": "markdown",
   "metadata": {},
   "source": [
    "As before, given data points $\\{x_i, y_i\\}, i = 1, ..., m$, and externally supplied weights $w_i, \\sum_i w_i = 1$, we want to find a set of modified weights $\\hat{w}_i$ such that the interpolation at a value $x$ can be written as\n",
    "\n",
    "\\begin{equation*}\n",
    "y(x) = \\sum_{i=1}^m \\hat{w}_i(x) y_i\n",
    "\\end{equation*}\n",
    "\n",
    "Now we model the data as a local quadratic:\n",
    "\n",
    "\\begin{equation*}\n",
    "y_i = a_0 + a_1 x_i + a_2 x_i^2 + \\epsilon_i\n",
    "\\end{equation*}"
   ]
  },
  {
   "cell_type": "markdown",
   "metadata": {},
   "source": [
    "### Finding $a_0$"
   ]
  },
  {
   "cell_type": "markdown",
   "metadata": {},
   "source": [
    "As before, we define an error:\n",
    "\n",
    "\\begin{equation*}\n",
    "E = \\frac{1}{2} \\sum_i w_i (y_i - a_0 - a_1 x_i - a_2 x_i^2)\n",
    "\\end{equation*}\n",
    "\n",
    "Minimizing\n",
    "\n",
    "\\begin{equation*}\n",
    "\\frac{\\partial E}{\\partial a_0} = - \\sum_i w_i (y_i - a_0 - a_1 x_i - a_2 x_i^2) = 0\n",
    "\\end{equation*}\n",
    "\n",
    "\\begin{equation*}\n",
    "\\Rightarrow a_0 = \\langle y \\rangle - a_1 \\langle x \\rangle - a_2 \\langle x^2 \\rangle\n",
    "\\end{equation*}\n",
    "\n",
    "where the averages $\\langle \\cdot \\rangle$ are defined as before."
   ]
  },
  {
   "cell_type": "markdown",
   "metadata": {},
   "source": [
    "### Finding $a_1$"
   ]
  },
  {
   "cell_type": "markdown",
   "metadata": {},
   "source": [
    "Simiarly, for $a_1$ we have\n",
    "\n",
    "\\begin{align*}\n",
    "\\frac{\\partial E}{\\partial a_1} &= - \\sum_i w_i x_i (y_i - a_0 - a_1 x_i - a_2 x_i^2) = 0 \\\\\n",
    "                                &= - \\langle x y \\rangle + a_0 \\langle x \\rangle + a_1 \\langle x^2 \\rangle + a_2 \\langle x^3 \\rangle = 0\n",
    "\\end{align*}\n",
    "\n",
    "\\begin{align*}\n",
    "\\langle x y \\rangle &= \\left[\\langle y \\rangle - a_1 \\langle x \\rangle - a_2 \\langle x^2 \\rangle \\right] \\langle x \\rangle + a_1 \\langle x^2 \\rangle + a_2 \\langle x^3 \\rangle \\\\\n",
    "                    &= \\langle x \\rangle \\langle y \\rangle - a_1 \\langle x^2 \\rangle - a_2 \\langle x \\rangle \\langle x^2 \\rangle + a_1 \\langle x^2 \\rangle + a_2 \\langle x^3 \\rangle\n",
    "\\end{align*}\n",
    "\n",
    "Gathering terms\n",
    "\n",
    "\\begin{equation*}\n",
    "\\langle x y \\rangle - \\langle x \\rangle \\langle y \\rangle = a_1 (\\langle x^2 \\rangle - \\langle x \\rangle^2) + a_2 (\\langle x^3 \\rangle - \\langle x^2 \\rangle \\langle x \\rangle)\n",
    "\\end{equation*}\n",
    "\n",
    "We definie the following geometric factors $M_2$ and $M_3$, and a correlation factor $C_{xy}$:\n",
    "\n",
    "\\begin{align*}\n",
    "M_2 &= \\langle x^2 \\rangle - \\langle x \\rangle^2 \\\\\n",
    "M_3 &= \\langle x^3 \\rangle - \\langle x^2 \\rangle \\langle x \\rangle \\\\\n",
    "C_{xy} &= \\langle x y \\rangle - \\langle x \\rangle \\langle y \\rangle \\\\\n",
    "       &= a_1 M_2 + a_2 M_3\n",
    "\\end{align*}\n",
    "\n",
    "Then we can write:\n",
    "\n",
    "\\begin{equation*}\n",
    "a_1 = \\frac{C_{xy}}{M_2} - a_2 \\frac{M_3}{M_2}\n",
    "\\end{equation*}"
   ]
  },
  {
   "cell_type": "markdown",
   "metadata": {},
   "source": [
    "### Finding $a_2$"
   ]
  },
  {
   "cell_type": "markdown",
   "metadata": {},
   "source": [
    "For $\\alpha_2$ the result of minimizing the error with respect to $\\alpha_2$ is similar to the above, just adding another $x$ in the averages, leading to\n",
    "\n",
    "\\begin{equation}\n",
    "\\langle x^2 y \\rangle - \\langle x^2 \\rangle \\langle y \\rangle = a_1 (\\langle x^3 \\rangle - \\langle x^2 \\rangle \\langle x \\rangle) + a_2 (\\langle x^4 \\rangle - \\langle x^2 \\rangle^2)\n",
    "\\end{equation}\n",
    "\n",
    "We define the following geometric and correlation factors:\n",
    "\n",
    "\\begin{align*}\n",
    "M_4 &= \\langle x^4 \\rangle - \\langle x^2 \\rangle^2 \\\\\n",
    "C_{x^2y} &= \\langle x^2 y \\rangle - \\langle x^2 \\rangle \\langle y \\rangle\n",
    "\\end{align*}\n"
   ]
  },
  {
   "cell_type": "markdown",
   "metadata": {},
   "source": [
    "Substituting these into the above gives\n",
    "\n",
    "\\begin{equation*}\n",
    "C_{x^2y} = a_1 M_3 + a_2 M_4\n",
    "\\end{equation*}\n",
    "\n",
    "Substituting our expression for $a_1$ from above\n",
    "\n",
    "\\begin{align*}\n",
    "C_{x^2y} &= \\left[\n",
    "     \\frac{C_{xy}}{M_2} - a_2 \\frac{M_3}{M_2}\n",
    "     \\right] M_3 + a_2 M_4 \\\\\n",
    "     &= \\frac{M_3}{M_2} C_{xy} + a_2 (M_4 - \\frac{M_3^2}{M_2})\n",
    "\\end{align*}\n",
    "\n",
    "Solving for $a_2$...\n",
    "\n",
    "\\begin{align*}\n",
    "a_2 &= \\frac{\n",
    "        C_{x^2y} - \\frac{M_3}{M_2} C_{xy}\n",
    "     }{\n",
    "        M_4 - \\frac{M_3^2}{M_2}\n",
    "     } \\\\\n",
    "     &= \\frac{\n",
    "        M_2 C_{x^2y} - M_3 C_{xy}\n",
    "     }{\n",
    "        M_2 M_4 - M_3^2\n",
    "     }\n",
    "\\end{align*}"
   ]
  },
  {
   "cell_type": "markdown",
   "metadata": {},
   "source": [
    "Substituting back into the expression for $a_1$ gives\n",
    "\n",
    "\\begin{align*}\n",
    "a_1 &= \\frac{C_{xy}}{M_2} - \\frac{\n",
    "        M_2 C_{x^2y} - M_3 C_{xy}\n",
    "     }{\n",
    "        M_2 M_4 - M_3^2\n",
    "     } \\frac{M_3}{M_2} \\\\\n",
    "     &= \\frac{C_{xy}}{M_2} \n",
    "         - \\frac{M_2 C_{x^2y}}{M_2 M_4 - M_3^2} \\frac{M_3}{M_2} \n",
    "         + \\frac{M_3^2 }{M_2 M_4 - M_3^2} \\frac{C_{xy}}{M_2} \\\\\n",
    "     &= \\frac{C_{xy}}{M_2} \\frac{M_2 M_4 - M_3^2}{M_2 M_4 - M_3^2}\n",
    "         + \\frac{M_3^2 }{M_2 M_4 - M_3^2} \\frac{C_{xy}}{M_2} \n",
    "         - \\frac{M_3 C_{x^2y}}{M_2 M_4 - M_3^2} \\\\\n",
    "     &=  \\frac{M_4 C_{xy} - M_3 C_{x^2y}}{M_2 M_4 - M_3^2}\n",
    "\\end{align*}"
   ]
  },
  {
   "cell_type": "markdown",
   "metadata": {},
   "source": [
    "### The weight"
   ]
  },
  {
   "cell_type": "markdown",
   "metadata": {},
   "source": [
    "Returning to the interpolation expression, we start by substituting back $a_0$:\n",
    "\n",
    "\\begin{align*}\n",
    "y(x) &= a_0 + a_1 x + a_2 x^2 \\\\\n",
    "     &= \\langle y \\rangle - a_1 \\langle x \\rangle - a_2 \\langle x^2 \\rangle + a_1 x + a_2 x^2 \\\\\n",
    "     &= \\langle y \\rangle + a_1 (x - \\langle x \\rangle) + a_2 (x^2 - \\langle x^2 \\rangle)\n",
    "\\end{align*}\n",
    "\n",
    "Defining\n",
    "\n",
    "\\begin{align*}\n",
    "\\beta_2 &= \\frac{M_4}{M_2 M_4 - M_3^2} \\\\\n",
    "\\beta_3 &= \\frac{M_3}{M_2 M_4 - M_3^2}\\\\\n",
    "\\beta_4 &= \\frac{M_2}{M_2 M_4 - M_3^2}\n",
    "\\end{align*}\n",
    "\n",
    "We can write\n",
    "\n",
    "\\begin{align*}\n",
    "a_1 &= \\beta_2 C_{xy} - \\beta_3 C_{x^2 y} \\\\\n",
    "a_2 &= \\beta_4 C_{x^2y} - \\beta_3 C_{xy}\n",
    "\\end{align*}\n",
    "\n",
    "Then\n",
    "\n",
    "\\begin{align*}\n",
    "y(x) &= \\langle y \\rangle + (x - \\langle x \\rangle)(\\beta_2 C_{xy} - \\beta_3 C_{x^2 y}) \n",
    "       + (x^2 - \\langle x^2 \\rangle)(\\beta_4 C_{x^2y} - \\beta_3 C_{xy}) \\\\\n",
    "       &= \\langle y \\rangle  + [\\beta_2(x - \\langle x \\rangle) - \\beta_3 (x^2 - \\langle x^2 \\rangle)] C_{xy}\n",
    "       + [\\beta_4(x^2 - \\langle x^2 \\rangle) - \\beta_3 (x - \\langle x \\rangle)] C_{x^2y}\n",
    "\\end{align*}\n",
    "\n",
    "Defining\n",
    "\n",
    "\\begin{align*}\n",
    "\\hat{a}_1(x) &\\equiv \\beta_2(x - \\langle x \\rangle) - \\beta_3 (x^2 - \\langle x^2 \\rangle) \\\\\n",
    "\\hat{a}_2(x) &\\equiv \\beta_4(x^2 - \\langle x^2 \\rangle) - \\beta_3 (x - \\langle x \\rangle)\n",
    "\\end{align*}\n",
    "\n",
    "we can write, using the definitions of $C_{xy}$ and $C_{x^2y}$\n",
    "\n",
    "\\begin{align*}\n",
    "y(x) &= \\langle y \\rangle + \\hat{a}_1(x) C_{xy} + \\hat{a}_2(x) C_{x^2y} \\\\\n",
    "     &= \\sum_i w_i y_i + \\hat{a}_1(x)  \\sum_i w_i (x_i - \\langle x \\rangle) y_i \n",
    "         + \\hat{a}_2(x) \\sum_i w_i (x_i^2 - \\langle x^2 \\rangle) y_i \\\\\n",
    "     &= \\sum_i w_i y_i \\left[1 + \\hat{a}_1(x) (x_i - \\langle x \\rangle) \n",
    "         + \\hat{a}_2(x) (x_i^2 - \\langle x^2 \\rangle)\\right] \\\\\n",
    "     &= \\sum_i \\hat{w}_i(x) y_i\n",
    "\\end{align*}\n",
    "\n",
    "where\n",
    "\n",
    "\\begin{equation*}\n",
    "    \\hat{w}_i(x) \\equiv w_i \\left[1 + \\hat{a}_1(x) (x_i - \\langle x \\rangle) \n",
    "         + \\hat{a}_2(x) (x_i^2 - \\langle x^2 \\rangle)\\right]\n",
    "\\end{equation*}"
   ]
  }
 ],
 "metadata": {
  "kernelspec": {
   "display_name": "Python 2",
   "language": "python",
   "name": "python2"
  },
  "language_info": {
   "codemirror_mode": {
    "name": "ipython",
    "version": 2
   },
   "file_extension": ".py",
   "mimetype": "text/x-python",
   "name": "python",
   "nbconvert_exporter": "python",
   "pygments_lexer": "ipython2",
   "version": "2.7.11"
  },
  "toc": {
   "nav_menu": {
    "height": "48px",
    "width": "252px"
   },
   "navigate_menu": true,
   "number_sections": true,
   "sideBar": true,
   "threshold": 4,
   "toc_cell": false,
   "toc_section_display": "block",
   "toc_window_display": false
  }
 },
 "nbformat": 4,
 "nbformat_minor": 1
}
