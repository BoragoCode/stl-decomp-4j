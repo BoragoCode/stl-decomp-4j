{
 "cells": [
  {
   "cell_type": "code",
   "execution_count": null,
   "metadata": {
    "ExecuteTime": {
     "end_time": "2017-03-30T13:40:32.450873",
     "start_time": "2017-03-30T13:40:32.439461"
    },
    "collapsed": false
   },
   "outputs": [],
   "source": []
  },
  {
   "cell_type": "markdown",
   "metadata": {},
   "source": [
    "# Implementation\n",
    "\n",
    "The algorithm used by **_stl-decomp-4j_** takes advantage of the fact that the data that is being decomposed is regularly spaced with no missing values to implement the underlying Loess smoothers in an efficient fashion. This document walks through the formulation of local linear interpolation used by the Loess interpolator to explain the flavor of the implementation, and then extends this analysis to the quadratic interpolation that was added to the Java implementation."
   ]
  },
  {
   "cell_type": "markdown",
   "metadata": {
    "ExecuteTime": {
     "end_time": "2017-03-30T13:25:14.587538",
     "start_time": "2017-03-30T13:25:14.583851"
    }
   },
   "source": [
    "## Local Linear Interpolation"
   ]
  },
  {
   "cell_type": "markdown",
   "metadata": {},
   "source": [
    "This section walks through the derivation of the code used to perform local (weighted) linear interpolation in `LinearLoessInterpolator`, which is a straight port of the code in the original Ratfor function `stl.r:est`."
   ]
  },
  {
   "cell_type": "markdown",
   "metadata": {},
   "source": [
    "The input data is a sequence of data points ${x_i, y_i}$, where the $x_i$ are the regularly spaced grid points.\n",
    "\n",
    "The goal is to derive a set of weights $w_i$ such that the Loess interpolation of the data set at an arbitrary point $x$ can be written as\n",
    "\n",
    "\\begin{equation*}\n",
    "  y(x) = \\sum_{i = 1}^m \\hat{w}_i(x_i) y_i\n",
    "\\end{equation*}\n",
    "\n",
    "i.e. the interpolation is re-cast as a linear operation on the input y-values."
   ]
  },
  {
   "cell_type": "markdown",
   "metadata": {
    "collapsed": true
   },
   "source": [
    "We can write a measure of the square error from weighted least-squares interpolation as\n",
    "\n",
    "\\begin{equation*}\n",
    "E = {\\frac{1}{2}} \\sum_{i=1}^m (y_i - \\alpha - \\beta x_i)^2 \\cdot w_i\n",
    "\\end{equation*}\n",
    "\n",
    "where $\\sum w_i = 1$ are external weights (in Loess these come from the implementation of the locality window)."
   ]
  },
  {
   "cell_type": "markdown",
   "metadata": {},
   "source": [
    "### Finding $\\alpha$"
   ]
  },
  {
   "cell_type": "markdown",
   "metadata": {},
   "source": [
    "The optimal choices of $\\alpha$ and $\\beta$ are found by differentiating with respect to these, setting to 0 and solving:\n",
    "\n",
    "\\begin{equation*}\n",
    "\\frac{\\partial E}{\\partial \\alpha} = - \\sum_{i=1}^m w_i (y_i - \\alpha - \\beta x_i) = 0\n",
    "\\end{equation*}\n",
    "\n",
    "Then\n",
    "\n",
    "\\begin{equation*}\n",
    "\\sum w_i y_i - \\alpha \\sum w_i - \\beta \\sum w_i x_i = 0\n",
    "\\end{equation*}\n",
    "\n",
    "Or, defining $\\langle y \\rangle = \\sum w_i y_i$, $\\langle x \\rangle = \\sum w_i x_i$ and recalling that the $w_i$ are normalized, this can be rewritten as:\n",
    "\n",
    "\\begin{equation*}\n",
    "\\alpha = \\langle y \\rangle - \\beta \\langle x \\rangle\n",
    "\\end{equation*}"
   ]
  },
  {
   "cell_type": "markdown",
   "metadata": {},
   "source": [
    "### Finding $\\beta$"
   ]
  },
  {
   "cell_type": "markdown",
   "metadata": {},
   "source": [
    "Repeating this exercise for $\\beta$, skipping the intermediate details, gives\n",
    "\n",
    "\\begin{equation*}\n",
    "\\beta = \\frac{\\langle x y \\rangle - \\langle x \\rangle \\langle y \\rangle}{\\langle x^2 \\rangle - \\langle x \\rangle^2}\n",
    "\\end{equation*}"
   ]
  },
  {
   "cell_type": "markdown",
   "metadata": {},
   "source": [
    "### The weight"
   ]
  },
  {
   "cell_type": "markdown",
   "metadata": {},
   "source": [
    "Given the expressions above, we can write our expression for the interpolant at a point $x_i$ as\n",
    "\n",
    "\\begin{align*}\n",
    "y(x_i) &= \\alpha + \\beta x_i \\\\\n",
    "       &= \\langle y \\rangle + \\beta ( x_i - \\langle x \\rangle) \\\\\n",
    "       &= \\langle y \\rangle + \\frac{\\langle x y \\rangle - \\langle x \\rangle \\langle y \\rangle}{\\langle x^2 \\rangle - \\langle x \\rangle^2} (x_i - \\langle x \n",
    "\\end{align*}"
   ]
  },
  {
   "cell_type": "markdown",
   "metadata": {},
   "source": [
    "Writing out the averages that involve $y$ we have:\n",
    "\n",
    "\\begin{align*}\n",
    "y(x_i) &= \\sum_j w_j y_j + \\sum_j \\frac{x_i - \\langle x \\rangle}{\\langle x^2 \\rangle - \\langle x \\rangle^2} w_j (y_j(x_j - \\langle x \\rangle)) \\\\\n",
    "       &= \\sum_j w_j \\left[1 + \\frac{x_i - \\langle x \\rangle}{\\langle x^2 \\rangle - \\langle x \\rangle^2}(x_j - \\langle x \\rangle) \\right] y_j \\\\\n",
    "       &= \\sum_j \\hat{w}_j y_j\n",
    "\\end{align*}\n",
    "\n",
    "where we define:\n",
    "\n",
    "\\begin{equation*}\n",
    "\\hat{w}_j \\equiv w_j\\left[ 1 + \\frac{(x_i - \\langle x \\rangle)(x_j - \\langle x \\rangle)}{\\langle x^2 \\rangle - \\langle x \\rangle^2} \\right]\n",
    "\\end{equation*}"
   ]
  },
  {
   "cell_type": "markdown",
   "metadata": {},
   "source": [
    "## Local Quadratic Interpolation"
   ]
  },
  {
   "cell_type": "markdown",
   "metadata": {},
   "source": [
    "Now we model the data as a local quadratic:\n",
    "\n",
    "\\begin{equation*}\n",
    "y_i = a_0 + a_1 x_i + a_2 x_i^2 + \\epsilon_i\n",
    "\\end{equation*}\n",
    "\n",
    "The goal is to, again, write this as a linear combination of the $y_i$ values\n",
    "\n",
    "\\begin{equation*}\n",
    "y(x_i) = \\sum_i w_i y_i\n",
    "\\end{equation*}"
   ]
  },
  {
   "cell_type": "markdown",
   "metadata": {},
   "source": [
    "### $a_0$"
   ]
  },
  {
   "cell_type": "code",
   "execution_count": null,
   "metadata": {
    "collapsed": true
   },
   "outputs": [],
   "source": []
  }
 ],
 "metadata": {
  "kernelspec": {
   "display_name": "Python 2",
   "language": "python",
   "name": "python2"
  },
  "language_info": {
   "codemirror_mode": {
    "name": "ipython",
    "version": 2
   },
   "file_extension": ".py",
   "mimetype": "text/x-python",
   "name": "python",
   "nbconvert_exporter": "python",
   "pygments_lexer": "ipython2",
   "version": "2.7.11"
  },
  "toc": {
   "nav_menu": {
    "height": "48px",
    "width": "252px"
   },
   "navigate_menu": true,
   "number_sections": true,
   "sideBar": true,
   "threshold": 4,
   "toc_cell": false,
   "toc_section_display": "block",
   "toc_window_display": false
  }
 },
 "nbformat": 4,
 "nbformat_minor": 1
}
